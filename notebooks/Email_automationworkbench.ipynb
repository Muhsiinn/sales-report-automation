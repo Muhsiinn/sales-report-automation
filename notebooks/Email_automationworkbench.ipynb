{
 "cells": [
  {
   "cell_type": "code",
   "execution_count": 1,
   "id": "3d849ee3-f535-4817-8c1a-3795bfaffb55",
   "metadata": {},
   "outputs": [],
   "source": [
    "import os \n",
    "import smtplib\n",
    "from email.message import EmailMessage\n",
    "from email.utils import formataddr\n",
    "from pathlib import Path \n",
    "\n",
    "from dotenv import load_dotenv"
   ]
  },
  {
   "cell_type": "code",
   "execution_count": 2,
   "id": "433300d6-3f8b-488b-ac3c-5df1947e3991",
   "metadata": {},
   "outputs": [],
   "source": [
    "import pandas as pd\n",
    "\n",
    "\n",
    "sheets = pd.read_excel(\"ecommerce_Report.xlsx\",sheet_name=None)\n",
    "def df_to_html_table(df, title):\n",
    "    return f\"\"\"\n",
    "    <h2 style=\"font-family:Arial; color:#333;\">{title}</h2>\n",
    "    {df.to_html(index=False, border=0, justify='center', classes='dataframe', escape=False)}\n",
    "    <br><hr><br>\n",
    "    \"\"\""
   ]
  },
  {
   "cell_type": "code",
   "execution_count": 3,
   "id": "36c1aa45-5389-408b-896f-5e0ec5471e65",
   "metadata": {},
   "outputs": [
    {
     "name": "stdout",
     "output_type": "stream",
     "text": [
      "['\\n    <h2 style=\"font-family:Arial; color:#333;\">💰 Revenue Summary</h2>\\n    <table class=\"dataframe dataframe\">\\n  <thead>\\n    <tr style=\"text-align: center;\">\\n      <th>Metric</th>\\n      <th>Value</th>\\n    </tr>\\n  </thead>\\n  <tbody>\\n    <tr>\\n      <td>Total Revenue</td>\\n      <td>9747747.934</td>\\n    </tr>\\n  </tbody>\\n</table>\\n    <br><hr><br>\\n    ', '\\n    <h2 style=\"font-family:Arial; color:#333;\">📦 Top Selling Items by revenue</h2>\\n    <table class=\"dataframe dataframe\">\\n  <thead>\\n    <tr style=\"text-align: center;\">\\n      <th>Description</th>\\n      <th>Total Revenue</th>\\n    </tr>\\n  </thead>\\n  <tbody>\\n    <tr>\\n      <td>DOTCOM POSTAGE</td>\\n      <td>206245.48</td>\\n    </tr>\\n    <tr>\\n      <td>REGENCY CAKESTAND 3 TIER</td>\\n      <td>164762.19</td>\\n    </tr>\\n    <tr>\\n      <td>WHITE HANGING HEART T-LIGHT HOLDER</td>\\n      <td>99668.47</td>\\n    </tr>\\n    <tr>\\n      <td>PARTY BUNTING</td>\\n      <td>98302.98</td>\\n    </tr>\\n    <tr>\\n      <td>JUMBO BAG RED RETROSPOT</td>\\n      <td>92356.03</td>\\n    </tr>\\n    <tr>\\n      <td>RABBIT NIGHT LIGHT</td>\\n      <td>66756.59</td>\\n    </tr>\\n    <tr>\\n      <td>POSTAGE</td>\\n      <td>66230.64</td>\\n    </tr>\\n    <tr>\\n      <td>PAPER CHAIN KIT 50\\'S CHRISTMAS</td>\\n      <td>63791.94</td>\\n    </tr>\\n    <tr>\\n      <td>ASSORTED COLOUR BIRD ORNAMENT</td>\\n      <td>58959.73</td>\\n    </tr>\\n    <tr>\\n      <td>CHILLI LIGHTS</td>\\n      <td>53768.06</td>\\n    </tr>\\n  </tbody>\\n</table>\\n    <br><hr><br>\\n    ', '\\n    <h2 style=\"font-family:Arial; color:#333;\">❌ Most Cancelled Customers by Money</h2>\\n    <table class=\"dataframe dataframe\">\\n  <thead>\\n    <tr style=\"text-align: center;\">\\n      <th>CustomerID</th>\\n      <th>Cancelled Value</th>\\n    </tr>\\n  </thead>\\n  <tbody>\\n    <tr>\\n      <td>16446</td>\\n      <td>-168469.60</td>\\n    </tr>\\n    <tr>\\n      <td>12346</td>\\n      <td>-77183.60</td>\\n    </tr>\\n    <tr>\\n      <td>15098</td>\\n      <td>-39267.00</td>\\n    </tr>\\n    <tr>\\n      <td>16029</td>\\n      <td>-30032.23</td>\\n    </tr>\\n    <tr>\\n      <td>15749</td>\\n      <td>-22998.40</td>\\n    </tr>\\n    <tr>\\n      <td>12744</td>\\n      <td>-12158.90</td>\\n    </tr>\\n    <tr>\\n      <td>14911</td>\\n      <td>-11252.44</td>\\n    </tr>\\n    <tr>\\n      <td>12931</td>\\n      <td>-8593.15</td>\\n    </tr>\\n    <tr>\\n      <td>12536</td>\\n      <td>-8495.01</td>\\n    </tr>\\n    <tr>\\n      <td>14096</td>\\n      <td>-8043.88</td>\\n    </tr>\\n  </tbody>\\n</table>\\n    <br><hr><br>\\n    ', '\\n    <h2 style=\"font-family:Arial; color:#333;\">💵Top Customers</h2>\\n    <table class=\"dataframe dataframe\">\\n  <thead>\\n    <tr style=\"text-align: center;\">\\n      <th>CustomerID</th>\\n      <th>Total</th>\\n    </tr>\\n  </thead>\\n  <tbody>\\n    <tr>\\n      <td>14646</td>\\n      <td>279489.02</td>\\n    </tr>\\n    <tr>\\n      <td>18102</td>\\n      <td>256438.49</td>\\n    </tr>\\n    <tr>\\n      <td>17450</td>\\n      <td>187482.17</td>\\n    </tr>\\n    <tr>\\n      <td>14911</td>\\n      <td>132572.62</td>\\n    </tr>\\n    <tr>\\n      <td>12415</td>\\n      <td>123725.45</td>\\n    </tr>\\n    <tr>\\n      <td>14156</td>\\n      <td>113384.14</td>\\n    </tr>\\n    <tr>\\n      <td>17511</td>\\n      <td>88125.38</td>\\n    </tr>\\n    <tr>\\n      <td>16684</td>\\n      <td>65892.08</td>\\n    </tr>\\n    <tr>\\n      <td>13694</td>\\n      <td>62653.10</td>\\n    </tr>\\n    <tr>\\n      <td>15311</td>\\n      <td>59419.34</td>\\n    </tr>\\n  </tbody>\\n</table>\\n    <br><hr><br>\\n    ', '\\n    <h2 style=\"font-family:Arial; color:#333;\">📈Our Popular Products</h2>\\n    <table class=\"dataframe dataframe\">\\n  <thead>\\n    <tr style=\"text-align: center;\">\\n      <th>Description</th>\\n      <th>Total Quantity Sold</th>\\n    </tr>\\n  </thead>\\n  <tbody>\\n    <tr>\\n      <td>WORLD WAR 2 GLIDERS ASSTD DESIGNS</td>\\n      <td>53847</td>\\n    </tr>\\n    <tr>\\n      <td>JUMBO BAG RED RETROSPOT</td>\\n      <td>47363</td>\\n    </tr>\\n    <tr>\\n      <td>ASSORTED COLOUR BIRD ORNAMENT</td>\\n      <td>36381</td>\\n    </tr>\\n    <tr>\\n      <td>POPCORN HOLDER</td>\\n      <td>36334</td>\\n    </tr>\\n    <tr>\\n      <td>PACK OF 72 RETROSPOT CAKE CASES</td>\\n      <td>36039</td>\\n    </tr>\\n    <tr>\\n      <td>WHITE HANGING HEART T-LIGHT HOLDER</td>\\n      <td>35317</td>\\n    </tr>\\n    <tr>\\n      <td>RABBIT NIGHT LIGHT</td>\\n      <td>30680</td>\\n    </tr>\\n    <tr>\\n      <td>MINI PAINT SET VINTAGE</td>\\n      <td>26437</td>\\n    </tr>\\n    <tr>\\n      <td>PACK OF 12 LONDON TISSUES</td>\\n      <td>26315</td>\\n    </tr>\\n    <tr>\\n      <td>PACK OF 60 PINK PAISLEY CAKE CASES</td>\\n      <td>24753</td>\\n    </tr>\\n  </tbody>\\n</table>\\n    <br><hr><br>\\n    ']\n"
     ]
    }
   ],
   "source": [
    "html_parts = []\n",
    "\n",
    "# Revenue Summary\n",
    "if \"Revenue\" in sheets:\n",
    "    df = sheets[\"Revenue\"].head()\n",
    "    html_parts.append(df_to_html_table(df, \"💰 Revenue Summary\"))\n",
    "\n",
    "# Top Items\n",
    "if \"Top_Selling_Items\" in sheets:\n",
    "    df = sheets[\"Top_Selling_Items\"].head(10)\n",
    "    html_parts.append(df_to_html_table(df, \"📦 Top Selling Items by revenue\"))\n",
    "\n",
    "# Cancelled Customers\n",
    "if \"Cancelled_Customers_Value\" in sheets:\n",
    "    df = sheets[\"Cancelled_Customers_Value\"].head(10)\n",
    "    html_parts.append(df_to_html_table(df, \"❌ Most Cancelled Customers by Money\"))\n",
    "\n",
    "# Cancelled Customers\n",
    "if \"Top_Customers\" in sheets:\n",
    "    df = sheets[\"Top_Customers\"].head(10)\n",
    "    html_parts.append(df_to_html_table(df, \"💵Top Customers\"))\n",
    "# Cancelled Customers\n",
    "if \"Popular_Items\" in sheets:\n",
    "    df = sheets[\"Popular_Items\"].head(10)\n",
    "    html_parts.append(df_to_html_table(df, \"📈Our Popular Products\"))\n",
    "\n",
    "# Combine into full HTML\n",
    "html_report = f\"\"\"\n",
    "<html>\n",
    "<head>\n",
    "<style>\n",
    "    table {{\n",
    "        width: 100%;\n",
    "        border-collapse: collapse;\n",
    "        font-family: Arial;\n",
    "        margin-bottom: 20px;\n",
    "    }}\n",
    "    th, td {{\n",
    "        border: 1px solid #ddd;\n",
    "        padding: 8px;\n",
    "        text-align: left;\n",
    "    }}\n",
    "    th {{\n",
    "        background-color: #f2f2f2;\n",
    "    }}\n",
    "</style>\n",
    "</head>\n",
    "<body>\n",
    "    <h1 style=\"font-family:Arial;\">📊Sales Report</h1>\n",
    "    <p style=\"font-family:Arial;\">Here's a summary of this week's sales, cancellations, and top-performing products.</p>\n",
    "    {''.join(html_parts)}\n",
    "</body>\n",
    "</html>\n",
    "\"\"\""
   ]
  },
  {
   "cell_type": "code",
   "execution_count": 4,
   "id": "0a5a0e08-85cb-4905-b968-3102bca457cd",
   "metadata": {},
   "outputs": [],
   "source": [
    "port = 587\n",
    "email_server = 'smtp.gmail.com'\n",
    "\n",
    "#dir = Path.cwd()\n",
    "#envars = dir\n",
    "\n",
    "#load_dotenv(envars)\n",
    "#email = os.getenv(\"email\")\n",
    "#print(email)\n",
    "email= \"youemail\"\n",
    "passw= \"password\"\n",
    "\n"
   ]
  },
  {
   "cell_type": "code",
   "execution_count": 5,
   "id": "e39c010f-1cd3-478a-82dc-b1ee47fe2651",
   "metadata": {},
   "outputs": [],
   "source": [
    "def sendmail(subject,recivermail,name):\n",
    "    msg = EmailMessage()\n",
    "    msg['Subject'] = subject\n",
    "    msg['From'] = formataddr((\"Batfleck Corp\",f\"{email}\"))\n",
    "    msg[\"To\"] = recivermail\n",
    "    msg[\"BCC\"]= email\n",
    "\n",
    "    msg.set_content(\"This is an HTML report. Please use an HTML-compatible email client.\")\n",
    "    msg.add_alternative(html_report, subtype='html')\n",
    "\n",
    "    \n",
    "    \n",
    "   \n",
    "\n",
    "    with smtplib.SMTP(email_server,port)as server :\n",
    "        server.starttls()\n",
    "        server.login(email,passw)\n",
    "        server.sendmail(email,recivermail,msg.as_string())\n",
    "        \n",
    "        \n",
    "    "
   ]
  },
  {
   "cell_type": "code",
   "execution_count": 6,
   "id": "40b7e810-8896-4981-aa36-2bce84dac325",
   "metadata": {},
   "outputs": [],
   "source": [
    "sendmail(\n",
    "    subject = \"Sales Report\",\n",
    "    name = \"Batfleck Corp\",\n",
    "    recivermail = 'noobmuhsin@gmail.com'\n",
    ")\n",
    "\n"
   ]
  },
  {
   "cell_type": "code",
   "execution_count": null,
   "id": "5c5ce48c-076d-4f20-8f18-b4fc7f7b60a4",
   "metadata": {},
   "outputs": [],
   "source": [
    "\n"
   ]
  },
  {
   "cell_type": "code",
   "execution_count": null,
   "id": "f037e18e-1315-4eb6-81b4-ed592dbcd246",
   "metadata": {},
   "outputs": [],
   "source": [
    "\n",
    "\n"
   ]
  },
  {
   "cell_type": "code",
   "execution_count": null,
   "id": "b581fabc-50af-45ef-b5c4-c35636e27e7f",
   "metadata": {},
   "outputs": [],
   "source": [
    "\n"
   ]
  },
  {
   "cell_type": "code",
   "execution_count": null,
   "id": "0ab15604-f423-446c-854b-297a567ed5e7",
   "metadata": {},
   "outputs": [],
   "source": [
    "\n"
   ]
  },
  {
   "cell_type": "code",
   "execution_count": null,
   "id": "6ce17077-c559-40a1-82b3-ab5fd8417703",
   "metadata": {},
   "outputs": [],
   "source": []
  }
 ],
 "metadata": {
  "kernelspec": {
   "display_name": "Python 3 (ipykernel)",
   "language": "python",
   "name": "python3"
  },
  "language_info": {
   "codemirror_mode": {
    "name": "ipython",
    "version": 3
   },
   "file_extension": ".py",
   "mimetype": "text/x-python",
   "name": "python",
   "nbconvert_exporter": "python",
   "pygments_lexer": "ipython3",
   "version": "3.12.2"
  }
 },
 "nbformat": 4,
 "nbformat_minor": 5
}
