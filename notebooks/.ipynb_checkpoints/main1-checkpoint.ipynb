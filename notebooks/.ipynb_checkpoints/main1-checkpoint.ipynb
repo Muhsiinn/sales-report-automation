{
 "cells": [
  {
   "cell_type": "code",
   "execution_count": 6,
   "id": "ebd69c0f-8bd3-4591-9e5b-424a3315440e",
   "metadata": {},
   "outputs": [],
   "source": [
    "import pandas as pd \n",
    "\n",
    "df = pd.read_excel(\"Online Retail.xlsx\")"
   ]
  },
  {
   "cell_type": "code",
   "execution_count": 7,
   "id": "ef72c778-89a8-45a0-a9b0-e0846c95145f",
   "metadata": {},
   "outputs": [
    {
     "name": "stdout",
     "output_type": "stream",
     "text": [
      "  InvoiceNo StockCode                          Description  Quantity  \\\n",
      "0    536365    85123A   WHITE HANGING HEART T-LIGHT HOLDER         6   \n",
      "1    536365     71053                  WHITE METAL LANTERN         6   \n",
      "2    536365    84406B       CREAM CUPID HEARTS COAT HANGER         8   \n",
      "3    536365    84029G  KNITTED UNION FLAG HOT WATER BOTTLE         6   \n",
      "4    536365    84029E       RED WOOLLY HOTTIE WHITE HEART.         6   \n",
      "\n",
      "          InvoiceDate  UnitPrice  CustomerID         Country  \n",
      "0 2010-12-01 08:26:00       2.55     17850.0  United Kingdom  \n",
      "1 2010-12-01 08:26:00       3.39     17850.0  United Kingdom  \n",
      "2 2010-12-01 08:26:00       2.75     17850.0  United Kingdom  \n",
      "3 2010-12-01 08:26:00       3.39     17850.0  United Kingdom  \n",
      "4 2010-12-01 08:26:00       3.39     17850.0  United Kingdom  \n"
     ]
    }
   ],
   "source": [
    "stock_info = df[[\"StockCode\",\"Description\"]].drop_duplicates()\n",
    "print (df.head())"
   ]
  },
  {
   "cell_type": "code",
   "execution_count": 8,
   "id": "292c719c-e348-4ae8-a21b-764511af4d3e",
   "metadata": {},
   "outputs": [
    {
     "name": "stdout",
     "output_type": "stream",
     "text": [
      "       StockCode                          Description\n",
      "0         85123A   WHITE HANGING HEART T-LIGHT HOLDER\n",
      "1          71053                  WHITE METAL LANTERN\n",
      "2         84406B       CREAM CUPID HEARTS COAT HANGER\n",
      "3         84029G  KNITTED UNION FLAG HOT WATER BOTTLE\n",
      "4         84029E       RED WOOLLY HOTTIE WHITE HEART.\n",
      "...          ...                                  ...\n",
      "537224    47591b             SCOTTIES CHILDRENS APRON\n",
      "537621    85123A   CREAM HANGING HEART T-LIGHT HOLDER\n",
      "538554     85175                                  NaN\n",
      "538919     23169                              smashed\n",
      "540421     23843          PAPER CRAFT , LITTLE BIRDIE\n",
      "\n",
      "[5752 rows x 2 columns]\n"
     ]
    }
   ],
   "source": [
    "stock_info.to_excel(\"stock_info.xlsx\",index=False)\n",
    "print(stock_info)\n"
   ]
  },
  {
   "cell_type": "code",
   "execution_count": 9,
   "id": "ea78946b-da1c-4497-8069-90d00318d33c",
   "metadata": {},
   "outputs": [
    {
     "name": "stdout",
     "output_type": "stream",
     "text": [
      "  InvoiceNo StockCode                          Description  Quantity  \\\n",
      "0    536365    85123A   WHITE HANGING HEART T-LIGHT HOLDER         6   \n",
      "1    536365     71053                  WHITE METAL LANTERN         6   \n",
      "2    536365    84406B       CREAM CUPID HEARTS COAT HANGER         8   \n",
      "3    536365    84029G  KNITTED UNION FLAG HOT WATER BOTTLE         6   \n",
      "4    536365    84029E       RED WOOLLY HOTTIE WHITE HEART.         6   \n",
      "\n",
      "          InvoiceDate  UnitPrice  CustomerID         Country  Total  \n",
      "0 2010-12-01 08:26:00       2.55     17850.0  United Kingdom  15.30  \n",
      "1 2010-12-01 08:26:00       3.39     17850.0  United Kingdom  20.34  \n",
      "2 2010-12-01 08:26:00       2.75     17850.0  United Kingdom  22.00  \n",
      "3 2010-12-01 08:26:00       3.39     17850.0  United Kingdom  20.34  \n",
      "4 2010-12-01 08:26:00       3.39     17850.0  United Kingdom  20.34  \n"
     ]
    }
   ],
   "source": [
    "df[\"Total\"]= df[\"Quantity\"] * df[\"UnitPrice\"]\n",
    "print(df.head())"
   ]
  },
  {
   "cell_type": "code",
   "execution_count": null,
   "id": "c185d78c-7ee1-4c99-a7eb-ee1c6fc43716",
   "metadata": {},
   "outputs": [],
   "source": []
  },
  {
   "cell_type": "code",
   "execution_count": 10,
   "id": "54ff134a-0507-469b-9976-a35487208efe",
   "metadata": {},
   "outputs": [
    {
     "name": "stdout",
     "output_type": "stream",
     "text": [
      "  InvoiceNo StockCode                          Description  Quantity  \\\n",
      "0    536365    85123A   WHITE HANGING HEART T-LIGHT HOLDER         6   \n",
      "1    536365     71053                  WHITE METAL LANTERN         6   \n",
      "2    536365    84406B       CREAM CUPID HEARTS COAT HANGER         8   \n",
      "3    536365    84029G  KNITTED UNION FLAG HOT WATER BOTTLE         6   \n",
      "4    536365    84029E       RED WOOLLY HOTTIE WHITE HEART.         6   \n",
      "\n",
      "          InvoiceDate  UnitPrice  CustomerID         Country  Total  \n",
      "0 2010-12-01 08:26:00       2.55     17850.0  United Kingdom  15.30  \n",
      "1 2010-12-01 08:26:00       3.39     17850.0  United Kingdom  20.34  \n",
      "2 2010-12-01 08:26:00       2.75     17850.0  United Kingdom  22.00  \n",
      "3 2010-12-01 08:26:00       3.39     17850.0  United Kingdom  20.34  \n",
      "4 2010-12-01 08:26:00       3.39     17850.0  United Kingdom  20.34  \n"
     ]
    }
   ],
   "source": [
    "print(df.head())"
   ]
  },
  {
   "cell_type": "markdown",
   "id": "1097bd7e-3b35-4cca-9b7a-42ee824136a9",
   "metadata": {},
   "source": [
    "fixing date and price decimal points in excel "
   ]
  },
  {
   "cell_type": "code",
   "execution_count": 11,
   "id": "32268712-cbed-44ee-8aab-4190a0632c71",
   "metadata": {},
   "outputs": [
    {
     "name": "stdout",
     "output_type": "stream",
     "text": [
      "  InvoiceNo StockCode                          Description  Quantity  \\\n",
      "0    536365    85123A   WHITE HANGING HEART T-LIGHT HOLDER         6   \n",
      "1    536365     71053                  WHITE METAL LANTERN         6   \n",
      "2    536365    84406B       CREAM CUPID HEARTS COAT HANGER         8   \n",
      "3    536365    84029G  KNITTED UNION FLAG HOT WATER BOTTLE         6   \n",
      "4    536365    84029E       RED WOOLLY HOTTIE WHITE HEART.         6   \n",
      "\n",
      "          InvoiceDate  UnitPrice  CustomerID         Country  Total  \n",
      "0 2010-12-01 08:26:00       2.55     17850.0  United Kingdom  15.30  \n",
      "1 2010-12-01 08:26:00       3.39     17850.0  United Kingdom  20.34  \n",
      "2 2010-12-01 08:26:00       2.75     17850.0  United Kingdom  22.00  \n",
      "3 2010-12-01 08:26:00       3.39     17850.0  United Kingdom  20.34  \n",
      "4 2010-12-01 08:26:00       3.39     17850.0  United Kingdom  20.34  \n"
     ]
    }
   ],
   "source": [
    "df[\"InvoiceDate\"]=pd.to_datetime(df['InvoiceDate'])\n",
    "df[\"Total\"]= pd.to_numeric(df['Total'], errors = 'coerce')\n",
    "df[\"Total\"]= df['Total'].apply(lambda x: \"{:.2f}\".format(x))\n",
    "print(df.head())"
   ]
  },
  {
   "cell_type": "code",
   "execution_count": 12,
   "id": "ab6fa168-53a8-4b2b-b5e6-0cd52e3581cb",
   "metadata": {},
   "outputs": [],
   "source": [
    "df.to_excel(\"withtotal.xlsx\",index = False)"
   ]
  },
  {
   "cell_type": "code",
   "execution_count": 13,
   "id": "d7701516-d661-4576-af56-77ce95d5597a",
   "metadata": {},
   "outputs": [
    {
     "name": "stdout",
     "output_type": "stream",
     "text": [
      "        CustomerID  Total\n",
      "0          17850.0  15.30\n",
      "1          17850.0  20.34\n",
      "2          17850.0  22.00\n",
      "3          17850.0  20.34\n",
      "4          17850.0  20.34\n",
      "...            ...    ...\n",
      "541904     12680.0  10.20\n",
      "541905     12680.0  12.60\n",
      "541906     12680.0  16.60\n",
      "541907     12680.0  16.60\n",
      "541908     12680.0  14.85\n",
      "\n",
      "[541909 rows x 2 columns]\n"
     ]
    }
   ],
   "source": [
    "buy_info= df[[\"CustomerID\",\"Total\"]].copy()\n",
    "print(buy_info)"
   ]
  },
  {
   "cell_type": "code",
   "execution_count": 14,
   "id": "c1c1341f-68aa-4369-a806-42c5fdee1fdb",
   "metadata": {},
   "outputs": [],
   "source": [
    "buy_info.to_excel(\"buy_info.xlsx\",index=False)"
   ]
  },
  {
   "cell_type": "code",
   "execution_count": 15,
   "id": "77219f78-f875-4cab-b117-17f48f0a10fe",
   "metadata": {
    "scrolled": true
   },
   "outputs": [],
   "source": [
    "buy_info[\"Total\"]= pd.to_numeric(buy_info['Total'], errors = 'coerce')\n",
    "customer_buyout=buy_info.groupby(\"CustomerID\")[\"Total\"].sum().reset_index()"
   ]
  },
  {
   "cell_type": "code",
   "execution_count": 16,
   "id": "bc7ff353-0a21-412d-b393-2f0761e23bbf",
   "metadata": {},
   "outputs": [],
   "source": [
    "\n",
    "customer_buyout.rename(columns={\"Total\": \"Total Buyout\"}, inplace=True)"
   ]
  },
  {
   "cell_type": "code",
   "execution_count": 17,
   "id": "188f5f86-1e06-4134-bfe2-7cc608ef2aea",
   "metadata": {},
   "outputs": [],
   "source": [
    "customer_buyout.to_excel(\"customer_buyout.xlsx\", index=False)\n"
   ]
  },
  {
   "cell_type": "code",
   "execution_count": 18,
   "id": "d8563515-38bf-48e8-8df4-c32c640de5fc",
   "metadata": {},
   "outputs": [],
   "source": [
    "#print(df[df[\"CustomerID\"] == 12346])  - verification "
   ]
  },
  {
   "cell_type": "code",
   "execution_count": 19,
   "id": "01313a0e-6f59-486e-b4d6-f8a00909c8b7",
   "metadata": {},
   "outputs": [],
   "source": [
    "#print(df[df[\"CustomerID\"] == 12347][\"Total\"].sum())\n"
   ]
  },
  {
   "cell_type": "code",
   "execution_count": 20,
   "id": "760ce4cd-c747-4c3a-9a45-f777c3b78d2b",
   "metadata": {},
   "outputs": [],
   "source": [
    "#print(buy_info[buy_info[\"CustomerID\"] == 12347])\n",
    "#buy_info[\"Total\"]= pd.to_numeric(buy_info['Total'], errors = 'coerce')\n",
    "#print(buy_info[df[\"CustomerID\"] == 12347][\"Total\"].sum())"
   ]
  },
  {
   "cell_type": "code",
   "execution_count": 21,
   "id": "c4b11014-afc0-4d65-902b-ea6de4e8f6cf",
   "metadata": {},
   "outputs": [
    {
     "name": "stdout",
     "output_type": "stream",
     "text": [
      "Total Buyout: 9747747.93\n"
     ]
    }
   ],
   "source": [
    "buy_info[\"Total\"]= pd.to_numeric(buy_info['Total'], errors = 'coerce')\n",
    "total_buyout = buy_info[\"Total\"].sum()\n",
    "print(\"Total Buyout:\", round(total_buyout,2))\n"
   ]
  },
  {
   "cell_type": "code",
   "execution_count": 22,
   "id": "8127c14d-83dd-4c4d-af48-caa885524066",
   "metadata": {},
   "outputs": [
    {
     "name": "stdout",
     "output_type": "stream",
     "text": [
      "count    541909.000000\n",
      "mean         17.987795\n",
      "std         378.810824\n",
      "min     -168469.600000\n",
      "25%           3.400000\n",
      "50%           9.750000\n",
      "75%          17.400000\n",
      "max      168469.600000\n",
      "Name: Total, dtype: float64\n"
     ]
    }
   ],
   "source": [
    "print(buy_info[\"Total\"].describe())\n"
   ]
  },
  {
   "cell_type": "code",
   "execution_count": 23,
   "id": "ad145f64-6681-4293-8699-e93251a8f8d6",
   "metadata": {},
   "outputs": [
    {
     "name": "stdout",
     "output_type": "stream",
     "text": [
      "CustomerID\n",
      "14646.0    279489.02\n",
      "18102.0    256438.49\n",
      "17450.0    187482.17\n",
      "14911.0    132572.62\n",
      "12415.0    123725.45\n",
      "14156.0    113384.14\n",
      "17511.0     88125.38\n",
      "16684.0     65892.08\n",
      "13694.0     62653.10\n",
      "15311.0     59419.34\n",
      "Name: Total, dtype: float64\n"
     ]
    }
   ],
   "source": [
    "top_buyer = buy_info.groupby(\"CustomerID\")[\"Total\"].sum().sort_values(ascending=False).head(10)\n",
    "print(top_buyer)\n"
   ]
  },
  {
   "cell_type": "code",
   "execution_count": 29,
   "id": "b129c14a-c0d6-4fad-adff-e2ede3e867d4",
   "metadata": {},
   "outputs": [
    {
     "name": "stdout",
     "output_type": "stream",
     "text": [
      "       InvoiceNo StockCode                       Description  Quantity  \\\n",
      "141      C536379         D                          Discount        -1   \n",
      "154      C536383    35004C   SET OF 3 COLOURED  FLYING DUCKS        -1   \n",
      "235      C536391     22556    PLASTERS IN TIN CIRCUS PARADE        -12   \n",
      "236      C536391     21984  PACK OF 12 PINK PAISLEY TISSUES        -24   \n",
      "237      C536391     21983  PACK OF 12 BLUE PAISLEY TISSUES        -24   \n",
      "...          ...       ...                               ...       ...   \n",
      "540449   C581490     23144   ZINC T-LIGHT HOLDER STARS SMALL       -11   \n",
      "541541   C581499         M                            Manual        -1   \n",
      "541715   C581568     21258        VICTORIAN SEWING BOX LARGE        -5   \n",
      "541716   C581569     84978  HANGING HEART JAR T-LIGHT HOLDER        -1   \n",
      "541717   C581569     20979     36 PENCILS TUBE RED RETROSPOT        -5   \n",
      "\n",
      "               InvoiceDate  UnitPrice  CustomerID         Country    Total  \n",
      "141    2010-12-01 09:41:00      27.50     14527.0  United Kingdom   -27.50  \n",
      "154    2010-12-01 09:49:00       4.65     15311.0  United Kingdom    -4.65  \n",
      "235    2010-12-01 10:24:00       1.65     17548.0  United Kingdom   -19.80  \n",
      "236    2010-12-01 10:24:00       0.29     17548.0  United Kingdom    -6.96  \n",
      "237    2010-12-01 10:24:00       0.29     17548.0  United Kingdom    -6.96  \n",
      "...                    ...        ...         ...             ...      ...  \n",
      "540449 2011-12-09 09:57:00       0.83     14397.0  United Kingdom    -9.13  \n",
      "541541 2011-12-09 10:28:00     224.69     15498.0  United Kingdom  -224.69  \n",
      "541715 2011-12-09 11:57:00      10.95     15311.0  United Kingdom   -54.75  \n",
      "541716 2011-12-09 11:58:00       1.25     17315.0  United Kingdom    -1.25  \n",
      "541717 2011-12-09 11:58:00       1.25     17315.0  United Kingdom    -6.25  \n",
      "\n",
      "[9288 rows x 9 columns]\n"
     ]
    }
   ],
   "source": [
    "# Step 1: Filter cancelled orders\n",
    "cancelled_items = df[df[\"InvoiceNo\"].astype(str).str.startswith(\"C\")]\n",
    "\n",
    "print(cancelled)\n"
   ]
  },
  {
   "cell_type": "code",
   "execution_count": 30,
   "id": "3f7d7e46-5346-4ef8-8022-523b21fb6767",
   "metadata": {},
   "outputs": [
    {
     "name": "stdout",
     "output_type": "stream",
     "text": [
      "Description\n",
      "PAPER CRAFT , LITTLE BIRDIE           -80995\n",
      "MEDIUM CERAMIC TOP STORAGE JAR        -74494\n",
      "ROTATING SILVER ANGELS T-LIGHT HLDR    -9376\n",
      "Manual                                 -4066\n",
      "FAIRY CAKE FLANNEL ASSORTED COLOUR     -3150\n",
      "PINK BLUE FELT CRAFT TRINKET BOX       -2617\n",
      "WHITE HANGING HEART T-LIGHT HOLDER     -2578\n",
      "GIN + TONIC DIET METAL SIGN            -2030\n",
      "HERB MARKER BASIL                      -1527\n",
      "FELTCRAFT DOLL MOLLY                   -1447\n",
      "Name: Quantity, dtype: int64\n"
     ]
    }
   ],
   "source": [
    "\n",
    "most_cancelled_items = (\n",
    "    cancelled_items.groupby(\"Description\")[\"Quantity\"]\n",
    "    .sum()\n",
    "    .sort_values(ascending=True)  \n",
    ")\n",
    "\n",
    "\n",
    "print(most_cancelled_items.head(10))\n",
    "\n",
    "\n",
    "\n"
   ]
  },
  {
   "cell_type": "code",
   "execution_count": 31,
   "id": "c18c83c2-867e-486b-b090-c2165a6253f5",
   "metadata": {},
   "outputs": [
    {
     "name": "stdout",
     "output_type": "stream",
     "text": [
      "CustomerID\n",
      "16446.0   -80995\n",
      "12346.0   -74215\n",
      "15838.0    -9361\n",
      "15749.0    -9014\n",
      "16029.0    -8060\n",
      "12931.0    -4627\n",
      "14607.0    -3768\n",
      "14911.0    -3335\n",
      "17949.0    -2975\n",
      "12901.0    -2160\n",
      "Name: Quantity, dtype: int64\n"
     ]
    }
   ],
   "source": [
    "most_cancelled_customers = (\n",
    "    cancelled_items.groupby(\"CustomerID\")[\"Quantity\"]\n",
    "    .sum()\n",
    "    .sort_values(ascending=True)  # ascending because quantities are negative\n",
    ")\n",
    "print(most_cancelled_customers.head(10))"
   ]
  },
  {
   "cell_type": "code",
   "execution_count": 33,
   "id": "07556f29-2f57-46ad-bdde-b2836d49d432",
   "metadata": {},
   "outputs": [],
   "source": [
    "def generate_report(df):\n",
    "    # Convert necessary columns to numeric\n",
    "    df[\"Quantity\"] = pd.to_numeric(df[\"Quantity\"], errors=\"coerce\")\n",
    "    df[\"Total\"] = pd.to_numeric(df[\"Total\"], errors=\"coerce\")\n",
    "\n",
    "    # Cancelled data\n",
    "    cancelled = df[df[\"InvoiceNo\"].astype(str).str.startswith(\"C\")]\n",
    "\n",
    "    print(\"📉 Most Cancelled Items (by quantity):\")\n",
    "    print(\n",
    "        cancelled.groupby(\"Description\")[\"Quantity\"]\n",
    "        .sum()\n",
    "        .sort_values()\n",
    "        .head(10)\n",
    "    )\n",
    "    print(\"\\n👥 Most Cancelled Customers (by quantity):\")\n",
    "    print(\n",
    "        cancelled.groupby(\"CustomerID\")[\"Quantity\"]\n",
    "        .sum()\n",
    "        .sort_values()\n",
    "        .head(10)\n",
    "    )\n",
    "    print(\"\\n💸 Most Cancelled Customers (by value):\")\n",
    "    print(\n",
    "        cancelled.groupby(\"CustomerID\")[\"Total\"]\n",
    "        .sum()\n",
    "        .sort_values()\n",
    "        .head(10)\n",
    "    )\n",
    "\n",
    "    print(\"\\n🔥 Top Selling Items (by quantity):\")\n",
    "    print(\n",
    "        df.groupby(\"Description\")[\"Quantity\"]\n",
    "        .sum()\n",
    "        .sort_values(ascending=False)\n",
    "        .head(10)\n",
    "    )\n",
    "\n",
    "    print(\"\\n💰 Top Earning Customers (by total purchase):\")\n",
    "    print(\n",
    "        df.groupby(\"CustomerID\")[\"Total\"]\n",
    "        .sum()\n",
    "        .sort_values(ascending=False)\n",
    "        .head(10)\n",
    "    )\n"
   ]
  },
  {
   "cell_type": "code",
   "execution_count": 34,
   "id": "c5784d08-2c59-4889-86d8-34210216ae1c",
   "metadata": {},
   "outputs": [
    {
     "name": "stdout",
     "output_type": "stream",
     "text": [
      "📉 Most Cancelled Items (by quantity):\n",
      "Description\n",
      "PAPER CRAFT , LITTLE BIRDIE           -80995\n",
      "MEDIUM CERAMIC TOP STORAGE JAR        -74494\n",
      "ROTATING SILVER ANGELS T-LIGHT HLDR    -9376\n",
      "Manual                                 -4066\n",
      "FAIRY CAKE FLANNEL ASSORTED COLOUR     -3150\n",
      "PINK BLUE FELT CRAFT TRINKET BOX       -2617\n",
      "WHITE HANGING HEART T-LIGHT HOLDER     -2578\n",
      "GIN + TONIC DIET METAL SIGN            -2030\n",
      "HERB MARKER BASIL                      -1527\n",
      "FELTCRAFT DOLL MOLLY                   -1447\n",
      "Name: Quantity, dtype: int64\n",
      "\n",
      "👥 Most Cancelled Customers (by quantity):\n",
      "CustomerID\n",
      "16446.0   -80995\n",
      "12346.0   -74215\n",
      "15838.0    -9361\n",
      "15749.0    -9014\n",
      "16029.0    -8060\n",
      "12931.0    -4627\n",
      "14607.0    -3768\n",
      "14911.0    -3335\n",
      "17949.0    -2975\n",
      "12901.0    -2160\n",
      "Name: Quantity, dtype: int64\n",
      "\n",
      "💸 Most Cancelled Customers (by value):\n",
      "CustomerID\n",
      "16446.0   -168469.60\n",
      "12346.0    -77183.60\n",
      "15098.0    -39267.00\n",
      "16029.0    -30032.23\n",
      "15749.0    -22998.40\n",
      "12744.0    -12158.90\n",
      "14911.0    -11252.44\n",
      "12931.0     -8593.15\n",
      "12536.0     -8495.01\n",
      "14096.0     -8043.88\n",
      "Name: Total, dtype: float64\n",
      "\n",
      "🔥 Top Selling Items (by quantity):\n",
      "Description\n",
      "WORLD WAR 2 GLIDERS ASSTD DESIGNS     53847\n",
      "JUMBO BAG RED RETROSPOT               47363\n",
      "ASSORTED COLOUR BIRD ORNAMENT         36381\n",
      "POPCORN HOLDER                        36334\n",
      "PACK OF 72 RETROSPOT CAKE CASES       36039\n",
      "WHITE HANGING HEART T-LIGHT HOLDER    35317\n",
      "RABBIT NIGHT LIGHT                    30680\n",
      "MINI PAINT SET VINTAGE                26437\n",
      "PACK OF 12 LONDON TISSUES             26315\n",
      "PACK OF 60 PINK PAISLEY CAKE CASES    24753\n",
      "Name: Quantity, dtype: int64\n",
      "\n",
      "💰 Top Earning Customers (by total purchase):\n",
      "CustomerID\n",
      "14646.0    279489.02\n",
      "18102.0    256438.49\n",
      "17450.0    187482.17\n",
      "14911.0    132572.62\n",
      "12415.0    123725.45\n",
      "14156.0    113384.14\n",
      "17511.0     88125.38\n",
      "16684.0     65892.08\n",
      "13694.0     62653.10\n",
      "15311.0     59419.34\n",
      "Name: Total, dtype: float64\n"
     ]
    }
   ],
   "source": [
    "generate_report(df)"
   ]
  },
  {
   "cell_type": "code",
   "execution_count": 43,
   "id": "125646f6-7179-498d-8690-9949ca55b1ee",
   "metadata": {},
   "outputs": [
    {
     "ename": "AttributeError",
     "evalue": "'list' object has no attribute 'sum'",
     "output_type": "error",
     "traceback": [
      "\u001b[1;31m---------------------------------------------------------------------------\u001b[0m",
      "\u001b[1;31mAttributeError\u001b[0m                            Traceback (most recent call last)",
      "Cell \u001b[1;32mIn[43], line 2\u001b[0m\n\u001b[0;32m      1\u001b[0m customer_item_summary \u001b[38;5;241m=\u001b[39m (\n\u001b[1;32m----> 2\u001b[0m     df\u001b[38;5;241m.\u001b[39mgroupby(\u001b[43m[\u001b[49m\u001b[38;5;124;43m\"\u001b[39;49m\u001b[38;5;124;43mCustomerID\u001b[39;49m\u001b[38;5;124;43m\"\u001b[39;49m\u001b[43m,\u001b[49m\u001b[43m \u001b[49m\u001b[38;5;124;43m\"\u001b[39;49m\u001b[38;5;124;43mTotal\u001b[39;49m\u001b[38;5;124;43m\"\u001b[39;49m\u001b[43m]\u001b[49m\u001b[38;5;241;43m.\u001b[39;49m\u001b[43msum\u001b[49m())\n\u001b[0;32m      3\u001b[0m     \u001b[38;5;241m.\u001b[39magg({\n\u001b[0;32m      4\u001b[0m         \u001b[38;5;124m\"\u001b[39m\u001b[38;5;124mQuantity\u001b[39m\u001b[38;5;124m\"\u001b[39m: \u001b[38;5;124m\"\u001b[39m\u001b[38;5;124msum\u001b[39m\u001b[38;5;124m\"\u001b[39m,\n\u001b[0;32m      5\u001b[0m     })\n\u001b[0;32m      6\u001b[0m     \u001b[38;5;241m.\u001b[39msort_values(by\u001b[38;5;241m=\u001b[39m\u001b[38;5;124m\"\u001b[39m\u001b[38;5;124mTotal\u001b[39m\u001b[38;5;124m\"\u001b[39m, ascending\u001b[38;5;241m=\u001b[39m\u001b[38;5;28;01mFalse\u001b[39;00m)\n\u001b[0;32m      7\u001b[0m )\n\u001b[0;32m      9\u001b[0m \u001b[38;5;28mprint\u001b[39m(customer_item_summary\u001b[38;5;241m.\u001b[39mhead(\u001b[38;5;241m20\u001b[39m))\n",
      "\u001b[1;31mAttributeError\u001b[0m: 'list' object has no attribute 'sum'"
     ]
    }
   ],
   "source": [
    "customer_item_summary = (\n",
    "    df.groupby([\"CustomerID\", \"Total\"]\n",
    "    .agg({\n",
    "        \"Quantity\": \"sum\",\n",
    "    })\n",
    "    .sort_values(by=\"Total\", ascending=False)\n",
    ")\n",
    "\n",
    "print(customer_item_summary.head(20))\n"
   ]
  },
  {
   "cell_type": "code",
   "execution_count": 40,
   "id": "a2dbbadf-125d-4c38-913a-256a2052e4d1",
   "metadata": {},
   "outputs": [
    {
     "name": "stdout",
     "output_type": "stream",
     "text": [
      "                                     Quantity    Total\n",
      "Description                                           \n",
      "RABBIT NIGHT LIGHT                       4801  9568.48\n",
      "ROUND SNACK BOXES SET OF4 WOODLAND       3120  7956.00\n",
      "SPACEBOY LUNCH BOX                       4492  7415.40\n",
      "DOLLY GIRL LUNCH BOX                     4096  6758.40\n",
      "ROUND SNACK BOXES SET OF 4 FRUITS        1584  4039.20\n",
      "JUMBO BAG RED RETROSPOT                  2000  3468.00\n",
      "RED TOADSTOOL LED NIGHT LIGHT            2376  3459.60\n",
      "REGENCY CAKESTAND 3 TIER                  288  3153.60\n",
      "5 HOOK HANGER RED MAGIC TOADSTOOL        2016  2923.20\n",
      "JUMBO BAG WOODLAND ANIMALS               1500  2629.00\n"
     ]
    }
   ],
   "source": [
    "top_customer_id = df.groupby(\"CustomerID\")[\"Total\"].sum().idxmax()  # this will give 14646.0\n",
    "top_customer_purchases = df[df[\"CustomerID\"] == top_customer_id]\n",
    "\n",
    "summary = (\n",
    "    top_customer_purchases.groupby(\"Description\")[[\"Quantity\", \"Total\"]]\n",
    "    .sum()\n",
    "    .sort_values(by=\"Total\", ascending=False)\n",
    ")\n",
    "\n",
    "print(summary.head(10))  # top 10 items this customer bought\n"
   ]
  },
  {
   "cell_type": "code",
   "execution_count": null,
   "id": "0119f1ec-a0b2-49e1-8ccf-7a745088ec75",
   "metadata": {},
   "outputs": [],
   "source": []
  }
 ],
 "metadata": {
  "kernelspec": {
   "display_name": "Python 3 (ipykernel)",
   "language": "python",
   "name": "python3"
  },
  "language_info": {
   "codemirror_mode": {
    "name": "ipython",
    "version": 3
   },
   "file_extension": ".py",
   "mimetype": "text/x-python",
   "name": "python",
   "nbconvert_exporter": "python",
   "pygments_lexer": "ipython3",
   "version": "3.12.2"
  }
 },
 "nbformat": 4,
 "nbformat_minor": 5
}
